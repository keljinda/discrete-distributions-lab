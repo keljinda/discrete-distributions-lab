{
 "cells": [
  {
   "cell_type": "code",
   "execution_count": 3,
   "id": "37609617-7965-4fc2-9cc4-359bb8a9af12",
   "metadata": {},
   "outputs": [],
   "source": [
    "import numpy as np\n",
    "import matplotlib.pyplot as plt\n",
    "import scipy.stats as stats"
   ]
  },
  {
   "cell_type": "code",
   "execution_count": 5,
   "id": "48f9d92f-d9e5-4888-9e58-be948ccdddfc",
   "metadata": {},
   "outputs": [
    {
     "name": "stdout",
     "output_type": "stream",
     "text": [
      "Expected number of elixirs from 100 loot boxes: 0.15\n"
     ]
    }
   ],
   "source": [
    "#### 1. Our boss asks, \"If a user buys 100 loot boxes, how many elixirs will they get?\" How would you respond?\n",
    "# Answer : We can't guarantee how many elixirs one person would  get. It's possible, though unlikely, that a player who is very lucky \n",
    "# gets 100 elixirs out of 100 lootboxes. It's also possible, though unlikely, that a player who is very unlucky gets none. \n",
    "# The expected value is 15 BUT that doesn't in anyway mean every player gets 15 out of every 100 lootboxes\n",
    "\n",
    "# Expected Value (EV) is the avg outcome of an event if repeated many times\n",
    "# It's calculated by multiplying each possible outcome by it's possiblitly and summing \n",
    "# these product together.\n",
    "# EV helps predict long-term results in situation involving chance\n",
    "\n",
    "def calculate_elixir_ev(elixir_probability, num_boxes):\n",
    "    return elixir_probability * num_boxes\n",
    "\n",
    "elixir_prob = 0.15\n",
    "nothing_prob = 0.85\n",
    "num_lootboxes = 100\n",
    "\n",
    "expected_elixirs = calculate_elixir_ev(elixir_prob, num_lootboxes)\n",
    "print(f'Expected number of elixirs from {num_lootboxes} loot boxes: {elixir_prob}')\n",
    "\n",
    "# EV and probability differ in that:\n",
    "# Probability measurs the likelihood  of a specific outcome occurring, expressed as a number between 0 and 1 or as a percentage\n",
    "\n",
    "# EV quantifies the avg result over many trails, often expressed in unit (items, dollars, units)"
   ]
  },
  {
   "cell_type": "code",
   "execution_count": 9,
   "id": "41d02832-ac49-44ea-bc3c-433b21c4dc38",
   "metadata": {},
   "outputs": [],
   "source": [
    "\n",
    "## The Binomial distribution\n",
    "loot_boxes = list(range(0,101))\n",
    "# elixir 15% \n",
    "p_success = 0.15\n",
    "number = 100\n",
    "loot_boxes_distribution = stats.binom(number,p_success)\n"
   ]
  },
  {
   "cell_type": "code",
   "execution_count": 59,
   "id": "6423c988-f6bf-4edd-bdad-cbe1f6679337",
   "metadata": {},
   "outputs": [
    {
     "name": "stdout",
     "output_type": "stream",
     "text": [
      "Expected elixirs 15.00\n"
     ]
    },
    {
     "data": {
      "image/png": "[encoded data removed]",
      "text/plain": [
       "<Figure size 640x480 with 1 Axes>"
      ]
     },
     "metadata": {},
     "output_type": "display_data"
    }
   ],
   "source": [
    "# PMF (Probabiltiy Mass Function) - Discrete distribution function returning the probability that a random var equal a SPECIFIC value\n",
    "# CDF (Cummurative Distribution Function) - Probability that a random var is less than or equal to a given values\n",
    "    # Discrete - As a step function (plt.step) It increases at each possible value of the random var\n",
    "    # Continuous - It's the integral of the PDF from negative infinity to the given value\n",
    "\n",
    "# PDF (Probability Density Function) - Continuous distribution function returning the realtive likelehood of a random variable taking on\n",
    "# a given value..\n",
    "plt.title('Binamial Distribution of user buys 100 loot boxe(p=0.15)')\n",
    "plt.bar(loot_boxes,loot_boxes_distribution.pmf(loot_boxes),color='skyblue')\n",
    "plt.xlabel('exect number of heads')\n",
    "\n",
    "avg = loot_boxes_distribution.mean()\n",
    "plt.axvline(avg, color='red', linestyle='dashed', linewidth=2)\n",
    "print(f'Expected elixirs {avg:.2f}')"
   ]
  },
  {
   "cell_type": "code",
   "execution_count": null,
   "id": "5755f223-6c6e-48e3-aa65-35f1558dfbeb",
   "metadata": {},
   "outputs": [],
   "source": [
    "# 2. Answer: S/O could theoretically purchase an infinite of lootboxes and never get an elixir.\n",
    "# We can't guarantee how many lootboxes one would need to purchase until they find the elixir.\n",
    "\n",
    "# BUT, if each box has a 15% chance of obtaining an elixir, regardless of previous lootboxes purchases or opening , then,\n",
    "# ON AVG, a user would need to open about 7 lootboxes to get an elixir. \n",
    "# BUT, agian, this is just an avg. Some user will need fewer lootboxes to get an elixir and some will need more.\n",
    "# The actual number for any given user can vary widely due to the RANDOM nature of the process.\n"
   ]
  },
  {
   "cell_type": "code",
   "execution_count": null,
   "id": "6cff4690-a36a-4b2e-83c4-d2eb718c6503",
   "metadata": {},
   "outputs": [],
   "source": [
    "# 3. chance\n",
    "# 3.A  \n",
    "    # Discrete random variable - countable number of outcomes; distinct\n",
    "\n",
    "    # Continuous ramdom variable - uncountable number of outcomes\n",
    "\n",
    "    # X if discrete, can take on 1,2,3,4,5, etc. These are countable\n",
    "    # We can't 2.5 lootboxes; we can't 3.7 lootboxes\n",
    "\n",
    "# 3.B\n",
    "    #Two outcomes: elixir (success) orno elixir (failure)\n",
    "# Discrete uniform - each outcome is equally likely\n",
    "# Bernoulli - number of successes in one trail. BUT we have 100 trails here..\n",
    "# Binomial - number of success in n number of trails\n",
    "# Poison - binomial + time\n",
    "\n",
    "# The winner is Binomial\n",
    "\n",
    "# 3.C\n",
    "# PMF (Probabiltiy Mass Function) - Discrete distribution function returning the probability that a random var equal a SPECIFIC value\n",
    "# Summation \n",
    "# For loop - why> range of values\n"
   ]
  },
  {
   "cell_type": "code",
   "execution_count": 19,
   "id": "64f43f83-8746-414a-835a-5b79c236a004",
   "metadata": {},
   "outputs": [
    {
     "name": "stdout",
     "output_type": "stream",
     "text": [
      "0.06631976581888205\n"
     ]
    }
   ],
   "source": [
    "#Best \n",
    "elixir_prob = 0.15\n",
    "nothing_prob = 0.85\n",
    "num_lootboxes = 100\n",
    "\n",
    "X  = stats.binom(num_lootboxes,elixir_prob) # X is binomial distribution\n",
    "P = 1 # counter - set the intial P\n",
    "for x in range (20+1):\n",
    "    P = P -X.pmf(x)\n",
    "#running for loop to subtract probability of getting x elixirs where x is in 0,1,2,...,20\n",
    "\n",
    "print(P)\n"
   ]
  },
  {
   "cell_type": "code",
   "execution_count": 23,
   "id": "b6a10ce2-9977-445c-b950-365c136d893f",
   "metadata": {},
   "outputs": [
    {
     "name": "stdout",
     "output_type": "stream",
     "text": [
      "The probability of getting more than 20 elixirs from 100 lootboxes is 0.0663\n"
     ]
    }
   ],
   "source": [
    "def calculate_elixir_probability():\n",
    "    return sum(stats.binom.pmf(x, n=100, p=0.15) for x in range (21,101)) # >20 \n",
    "\n",
    "result = calculate_elixir_probability()\n",
    "print(f'The probability of getting more than 20 elixirs from 100 lootboxes is {result:.4f}')\n",
    "               "
   ]
  },
  {
   "cell_type": "code",
   "execution_count": 37,
   "id": "5ed42657-bbe7-415a-9331-7051ad98ebba",
   "metadata": {},
   "outputs": [
    {
     "name": "stdout",
     "output_type": "stream",
     "text": [
      " Probability of getting more than 20 elixirs: 0.0663\n"
     ]
    }
   ],
   "source": [
    "# Used the cdf.\n",
    "print(f' Probability of getting more than 20 elixirs: {1-stats.binom.cdf(20,100,0.15):.4f}')"
   ]
  },
  {
   "cell_type": "code",
   "execution_count": 47,
   "id": "ce7029c0-423e-49fe-b49a-4ea56cc96496",
   "metadata": {},
   "outputs": [
    {
     "name": "stdout",
     "output_type": "stream",
     "text": [
      " Probability of getting more than 20 elixirs: 6.63%\n"
     ]
    }
   ],
   "source": [
    "#or\n",
    "print(f' Probability of getting more than 20 elixirs: {(1-stats.binom.cdf(20,100,0.15))*100:.2f}%')"
   ]
  },
  {
   "cell_type": "code",
   "execution_count": null,
   "id": "afb52065-fb43-4104-bc66-caf46fdee5ad",
   "metadata": {},
   "outputs": [],
   "source": [
    "#3e:\n",
    "# If a user were to earn or buy 100 lootboxes, there's about a ~6.6% chance that they get more than 20 elixirs\n",
    "\n",
    "# Supporse there are 25,000 active users currently. If all 25,000 users earned 100 lootboxes, then we expect about 1,650 of those users \n",
    "# to get more 20 elixirs.\n",
    "# 25_000*0.066"
   ]
  },
  {
   "cell_type": "code",
   "execution_count": 49,
   "id": "d7c3ee89-012f-476e-a650-a8a40c0fa238",
   "metadata": {},
   "outputs": [
    {
     "data": {
      "text/plain": [
       "185185.18518518517"
      ]
     },
     "execution_count": 49,
     "metadata": {},
     "output_type": "execute_result"
    }
   ],
   "source": [
    "#4  Poisson Distribution - models the number of successes we observe in a fixed amount of time, \n",
    "# not a fixed amount of time\n",
    "\n",
    "# The Poisson Distribution is often used to model count data, especially when the events are relative rare.\n",
    "# and can occur any number of times within the given interval (last month).\n",
    "# It's flexible enough to handle the varying probabilities we see in the data,unlike the discrete uniform or binomial distributions\n",
    "\n",
    "#4B\n",
    "revenue = 500_000\n",
    "avg_purchase = 2.7\n",
    "# number of user = revenue / avg_purchase\n",
    "revenue / avg_purchase"
   ]
  },
  {
   "cell_type": "code",
   "execution_count": 55,
   "id": "df3eb3fd-1f21-4218-adc3-d936ad6fc7d2",
   "metadata": {},
   "outputs": [
    {
     "name": "stdout",
     "output_type": "stream",
     "text": [
      "Number of users needed\": 185,186\n"
     ]
    }
   ],
   "source": [
    "#Floor Division\n",
    "result = int(revenue // avg_purchase +1)\n",
    "print(f'Number of users needed\": {result:,}')"
   ]
  },
  {
   "cell_type": "code",
   "execution_count": 57,
   "id": "69965a46-5fdc-4e22-b024-2ca51ec85a28",
   "metadata": {},
   "outputs": [
    {
     "data": {
      "text/plain": [
       "185186"
      ]
     },
     "execution_count": 57,
     "metadata": {},
     "output_type": "execute_result"
    }
   ],
   "source": [
    "import math\n",
    "math.ceil(revenue / avg_purchase)"
   ]
  },
  {
   "cell_type": "code",
   "execution_count": 81,
   "id": "3901964c-9b48-4775-8e76-50b7fd310185",
   "metadata": {},
   "outputs": [
    {
     "data": {
      "text/plain": [
       "185000.0"
      ]
     },
     "execution_count": 81,
     "metadata": {},
     "output_type": "execute_result"
    }
   ],
   "source": [
    "# round your answer up to nearest thousand -> rounding to 186,000\n",
    "\n",
    "# round will round down effectivly BUT how shall we round UP?\n",
    "round(revenue / avg_purchase , -3)"
   ]
  },
  {
   "cell_type": "code",
   "execution_count": null,
   "id": "b0ba87f4-fadc-4062-bca0-11d8176431bc",
   "metadata": {},
   "outputs": [],
   "source": [
    "#4c [186,000]\n",
    "\n",
    "# Set our total purchase amount to be 0\n",
    "tot_purchase_amt =0\n",
    "\n",
    "# Check values from 0 to 4\n",
    "\n",
    "    # How many users purchase y loot boxes\n",
    "#Assume = 186,000\n",
    "\n",
    "    # How much money would we make from those people? dollar amt * num of individual\n",
    "\n",
    "    # Add in the above quantity to amt\n",
    "\n",
    "# How much we expect to make from ppl buying 4 or fewer lootboxes (low value users)\n",
    "\n",
    "# How much we expect to make from ppl buying at least 5 lootboxes (high value users)\n"
   ]
  },
  {
   "cell_type": "code",
   "execution_count": 85,
   "id": "85285ac9-dbcf-457b-91bd-751874072037",
   "metadata": {},
   "outputs": [
    {
     "name": "stdout",
     "output_type": "stream",
     "text": [
      "Money expect to earn from high value users is $144,498\n",
      "Money expect to earn from low value users is $357,757\n"
     ]
    }
   ],
   "source": [
    "# Jay, Kel, and Cha-aim\n",
    "import numpy as np\n",
    "\n",
    "roundup = 186_000\n",
    "outcomes = np.random.poisson(avg_purchase,int(roundup)) # Use poisson, when events occur independently and an event occurring in an interval.\n",
    "high_value_users = [item for item in outcomes if item>=5] # Users who purchase >=5 items\n",
    "total_high_value_users =sum(high_value_users) # Get expected money earned from high value users\n",
    "\n",
    "low_value_users = sum(outcomes) - total_high_value_users \n",
    "total_low_value_users = low_value_users * 1\n",
    "\n",
    "print(f'Money expect to earn from high value users is ${total_high_value_users:,}')\n",
    "print(f'Money expect to earn from low value users is ${total_low_value_users:,}')"
   ]
  },
  {
   "cell_type": "code",
   "execution_count": null,
   "id": "127100e3-6e95-4da3-84d2-6ece28b5d73b",
   "metadata": {},
   "outputs": [],
   "source": [
    "#4d \n",
    "# Expected Revenue total / Expected revenue by user type\n",
    "# Count of user types\n",
    "# Avg number of loot boxes purchased by users \n",
    "# Total number of loot boxes purchased by users\n",
    "# Ratio of low value user with high value users"
   ]
  },
  {
   "cell_type": "code",
   "execution_count": null,
   "id": "0cb53940-e1e9-4fd1-af22-0992c290ee7a",
   "metadata": {},
   "outputs": [],
   "source": []
  }
 ],
 "metadata": {
  "kernelspec": {
   "display_name": "Python 3 (ipykernel)",
   "language": "python",
   "name": "python3"
  },
  "language_info": {
   "codemirror_mode": {
    "name": "ipython",
    "version": 3
   },
   "file_extension": ".py",
   "mimetype": "text/x-python",
   "name": "python",
   "nbconvert_exporter": "python",
   "pygments_lexer": "ipython3",
   "version": "3.12.4"
  }
 },
 "nbformat": 4,
 "nbformat_minor": 5
}
